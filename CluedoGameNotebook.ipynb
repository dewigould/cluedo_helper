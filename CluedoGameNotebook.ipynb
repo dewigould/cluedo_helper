{
 "cells": [
  {
   "cell_type": "markdown",
   "metadata": {},
   "source": [
    "# Cluedo Solver\n",
    "\n",
    "### Input:\n",
    "- user_name: your own name\n",
    "- user_cards: your own cards\n",
    "- other_players: names of all other players\n",
    "\n",
    "### Options are:\n",
    "- game.doesnt_have_cards: use when someone is unable to 'help' during a turn\n",
    "- game.add_definite_cards: use when someone shows you a card.\n",
    "- game.add_options: use when someone is able to help another player (not you), and you therefore don't know what they've shown.\n"
   ]
  },
  {
   "cell_type": "code",
   "execution_count": null,
   "metadata": {},
   "outputs": [],
   "source": [
    "import cluedo_class as cc"
   ]
  },
  {
   "cell_type": "code",
   "execution_count": null,
   "metadata": {},
   "outputs": [],
   "source": [
    "user_name = \"Player1\"\n",
    "user_cards = [\"card1\",\"card2\",\"card3\"]\n",
    "other_players = [\"Player2\", \"Player3\", \"Player4\"]\n",
    "game = cc.CluedoGame(user_name, user_cards, other_players)"
   ]
  },
  {
   "cell_type": "code",
   "execution_count": null,
   "metadata": {},
   "outputs": [],
   "source": [
    "\n"
   ]
  },
  {
   "cell_type": "code",
   "execution_count": null,
   "metadata": {},
   "outputs": [],
   "source": [
    "game.my_turn_suggestion()"
   ]
  },
  {
   "cell_type": "code",
   "execution_count": null,
   "metadata": {},
   "outputs": [],
   "source": [
    "game.see_progress()"
   ]
  }
 ],
 "metadata": {
  "kernelspec": {
   "display_name": "Python 3",
   "language": "python",
   "name": "python3"
  },
  "language_info": {
   "codemirror_mode": {
    "name": "ipython",
    "version": 3
   },
   "file_extension": ".py",
   "mimetype": "text/x-python",
   "name": "python",
   "nbconvert_exporter": "python",
   "pygments_lexer": "ipython3",
   "version": "3.7.7"
  }
 },
 "nbformat": 4,
 "nbformat_minor": 4
}
